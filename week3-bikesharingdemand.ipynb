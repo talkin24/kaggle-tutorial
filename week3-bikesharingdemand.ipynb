{
 "cells": [
  {
   "cell_type": "code",
   "execution_count": 1,
   "id": "1b8374ec",
   "metadata": {
    "_cell_guid": "b1076dfc-b9ad-4769-8c92-a6c4dae69d19",
    "_uuid": "8f2839f25d086af736a60e9eeb907d3b93b6e0e5",
    "execution": {
     "iopub.execute_input": "2021-10-26T04:16:57.955868Z",
     "iopub.status.busy": "2021-10-26T04:16:57.954187Z",
     "iopub.status.idle": "2021-10-26T04:16:57.968249Z",
     "shell.execute_reply": "2021-10-26T04:16:57.968813Z",
     "shell.execute_reply.started": "2021-10-26T03:54:02.784952Z"
    },
    "papermill": {
     "duration": 0.036242,
     "end_time": "2021-10-26T04:16:57.969091",
     "exception": false,
     "start_time": "2021-10-26T04:16:57.932849",
     "status": "completed"
    },
    "tags": []
   },
   "outputs": [
    {
     "name": "stdout",
     "output_type": "stream",
     "text": [
      "/kaggle/input/bike-sharing-demand/sampleSubmission.csv\n",
      "/kaggle/input/bike-sharing-demand/train.csv\n",
      "/kaggle/input/bike-sharing-demand/test.csv\n"
     ]
    }
   ],
   "source": [
    "# This Python 3 environment comes with many helpful analytics libraries installed\n",
    "# It is defined by the kaggle/python Docker image: https://github.com/kaggle/docker-python\n",
    "# For example, here's several helpful packages to load\n",
    "\n",
    "import numpy as np # linear algebra\n",
    "import pandas as pd # data processing, CSV file I/O (e.g. pd.read_csv)\n",
    "\n",
    "# Input data files are available in the read-only \"../input/\" directory\n",
    "# For example, running this (by clicking run or pressing Shift+Enter) will list all files under the input directory\n",
    "\n",
    "import os\n",
    "for dirname, _, filenames in os.walk('/kaggle/input'):\n",
    "    for filename in filenames:\n",
    "        print(os.path.join(dirname, filename))\n",
    "\n",
    "# You can write up to 20GB to the current directory (/kaggle/working/) that gets preserved as output when you create a version using \"Save & Run All\" \n",
    "# You can also write temporary files to /kaggle/temp/, but they won't be saved outside of the current session"
   ]
  },
  {
   "cell_type": "code",
   "execution_count": 2,
   "id": "035f7679",
   "metadata": {
    "execution": {
     "iopub.execute_input": "2021-10-26T04:16:58.005773Z",
     "iopub.status.busy": "2021-10-26T04:16:58.004839Z",
     "iopub.status.idle": "2021-10-26T04:16:58.076769Z",
     "shell.execute_reply": "2021-10-26T04:16:58.077246Z",
     "shell.execute_reply.started": "2021-10-26T03:54:02.822113Z"
    },
    "papermill": {
     "duration": 0.091773,
     "end_time": "2021-10-26T04:16:58.077430",
     "exception": false,
     "start_time": "2021-10-26T04:16:57.985657",
     "status": "completed"
    },
    "tags": []
   },
   "outputs": [
    {
     "data": {
      "text/html": [
       "<div>\n",
       "<style scoped>\n",
       "    .dataframe tbody tr th:only-of-type {\n",
       "        vertical-align: middle;\n",
       "    }\n",
       "\n",
       "    .dataframe tbody tr th {\n",
       "        vertical-align: top;\n",
       "    }\n",
       "\n",
       "    .dataframe thead th {\n",
       "        text-align: right;\n",
       "    }\n",
       "</style>\n",
       "<table border=\"1\" class=\"dataframe\">\n",
       "  <thead>\n",
       "    <tr style=\"text-align: right;\">\n",
       "      <th></th>\n",
       "      <th>datetime</th>\n",
       "      <th>season</th>\n",
       "      <th>holiday</th>\n",
       "      <th>workingday</th>\n",
       "      <th>weather</th>\n",
       "      <th>temp</th>\n",
       "      <th>atemp</th>\n",
       "      <th>humidity</th>\n",
       "      <th>windspeed</th>\n",
       "      <th>casual</th>\n",
       "      <th>registered</th>\n",
       "      <th>count</th>\n",
       "    </tr>\n",
       "  </thead>\n",
       "  <tbody>\n",
       "    <tr>\n",
       "      <th>0</th>\n",
       "      <td>2011-01-01 00:00:00</td>\n",
       "      <td>1</td>\n",
       "      <td>0</td>\n",
       "      <td>0</td>\n",
       "      <td>1</td>\n",
       "      <td>9.84</td>\n",
       "      <td>14.395</td>\n",
       "      <td>81</td>\n",
       "      <td>0.0000</td>\n",
       "      <td>3</td>\n",
       "      <td>13</td>\n",
       "      <td>16</td>\n",
       "    </tr>\n",
       "    <tr>\n",
       "      <th>1</th>\n",
       "      <td>2011-01-01 01:00:00</td>\n",
       "      <td>1</td>\n",
       "      <td>0</td>\n",
       "      <td>0</td>\n",
       "      <td>1</td>\n",
       "      <td>9.02</td>\n",
       "      <td>13.635</td>\n",
       "      <td>80</td>\n",
       "      <td>0.0000</td>\n",
       "      <td>8</td>\n",
       "      <td>32</td>\n",
       "      <td>40</td>\n",
       "    </tr>\n",
       "    <tr>\n",
       "      <th>2</th>\n",
       "      <td>2011-01-01 02:00:00</td>\n",
       "      <td>1</td>\n",
       "      <td>0</td>\n",
       "      <td>0</td>\n",
       "      <td>1</td>\n",
       "      <td>9.02</td>\n",
       "      <td>13.635</td>\n",
       "      <td>80</td>\n",
       "      <td>0.0000</td>\n",
       "      <td>5</td>\n",
       "      <td>27</td>\n",
       "      <td>32</td>\n",
       "    </tr>\n",
       "    <tr>\n",
       "      <th>3</th>\n",
       "      <td>2011-01-01 03:00:00</td>\n",
       "      <td>1</td>\n",
       "      <td>0</td>\n",
       "      <td>0</td>\n",
       "      <td>1</td>\n",
       "      <td>9.84</td>\n",
       "      <td>14.395</td>\n",
       "      <td>75</td>\n",
       "      <td>0.0000</td>\n",
       "      <td>3</td>\n",
       "      <td>10</td>\n",
       "      <td>13</td>\n",
       "    </tr>\n",
       "    <tr>\n",
       "      <th>4</th>\n",
       "      <td>2011-01-01 04:00:00</td>\n",
       "      <td>1</td>\n",
       "      <td>0</td>\n",
       "      <td>0</td>\n",
       "      <td>1</td>\n",
       "      <td>9.84</td>\n",
       "      <td>14.395</td>\n",
       "      <td>75</td>\n",
       "      <td>0.0000</td>\n",
       "      <td>0</td>\n",
       "      <td>1</td>\n",
       "      <td>1</td>\n",
       "    </tr>\n",
       "    <tr>\n",
       "      <th>...</th>\n",
       "      <td>...</td>\n",
       "      <td>...</td>\n",
       "      <td>...</td>\n",
       "      <td>...</td>\n",
       "      <td>...</td>\n",
       "      <td>...</td>\n",
       "      <td>...</td>\n",
       "      <td>...</td>\n",
       "      <td>...</td>\n",
       "      <td>...</td>\n",
       "      <td>...</td>\n",
       "      <td>...</td>\n",
       "    </tr>\n",
       "    <tr>\n",
       "      <th>10881</th>\n",
       "      <td>2012-12-19 19:00:00</td>\n",
       "      <td>4</td>\n",
       "      <td>0</td>\n",
       "      <td>1</td>\n",
       "      <td>1</td>\n",
       "      <td>15.58</td>\n",
       "      <td>19.695</td>\n",
       "      <td>50</td>\n",
       "      <td>26.0027</td>\n",
       "      <td>7</td>\n",
       "      <td>329</td>\n",
       "      <td>336</td>\n",
       "    </tr>\n",
       "    <tr>\n",
       "      <th>10882</th>\n",
       "      <td>2012-12-19 20:00:00</td>\n",
       "      <td>4</td>\n",
       "      <td>0</td>\n",
       "      <td>1</td>\n",
       "      <td>1</td>\n",
       "      <td>14.76</td>\n",
       "      <td>17.425</td>\n",
       "      <td>57</td>\n",
       "      <td>15.0013</td>\n",
       "      <td>10</td>\n",
       "      <td>231</td>\n",
       "      <td>241</td>\n",
       "    </tr>\n",
       "    <tr>\n",
       "      <th>10883</th>\n",
       "      <td>2012-12-19 21:00:00</td>\n",
       "      <td>4</td>\n",
       "      <td>0</td>\n",
       "      <td>1</td>\n",
       "      <td>1</td>\n",
       "      <td>13.94</td>\n",
       "      <td>15.910</td>\n",
       "      <td>61</td>\n",
       "      <td>15.0013</td>\n",
       "      <td>4</td>\n",
       "      <td>164</td>\n",
       "      <td>168</td>\n",
       "    </tr>\n",
       "    <tr>\n",
       "      <th>10884</th>\n",
       "      <td>2012-12-19 22:00:00</td>\n",
       "      <td>4</td>\n",
       "      <td>0</td>\n",
       "      <td>1</td>\n",
       "      <td>1</td>\n",
       "      <td>13.94</td>\n",
       "      <td>17.425</td>\n",
       "      <td>61</td>\n",
       "      <td>6.0032</td>\n",
       "      <td>12</td>\n",
       "      <td>117</td>\n",
       "      <td>129</td>\n",
       "    </tr>\n",
       "    <tr>\n",
       "      <th>10885</th>\n",
       "      <td>2012-12-19 23:00:00</td>\n",
       "      <td>4</td>\n",
       "      <td>0</td>\n",
       "      <td>1</td>\n",
       "      <td>1</td>\n",
       "      <td>13.12</td>\n",
       "      <td>16.665</td>\n",
       "      <td>66</td>\n",
       "      <td>8.9981</td>\n",
       "      <td>4</td>\n",
       "      <td>84</td>\n",
       "      <td>88</td>\n",
       "    </tr>\n",
       "  </tbody>\n",
       "</table>\n",
       "<p>10886 rows × 12 columns</p>\n",
       "</div>"
      ],
      "text/plain": [
       "                  datetime  season  holiday  workingday  weather   temp  \\\n",
       "0      2011-01-01 00:00:00       1        0           0        1   9.84   \n",
       "1      2011-01-01 01:00:00       1        0           0        1   9.02   \n",
       "2      2011-01-01 02:00:00       1        0           0        1   9.02   \n",
       "3      2011-01-01 03:00:00       1        0           0        1   9.84   \n",
       "4      2011-01-01 04:00:00       1        0           0        1   9.84   \n",
       "...                    ...     ...      ...         ...      ...    ...   \n",
       "10881  2012-12-19 19:00:00       4        0           1        1  15.58   \n",
       "10882  2012-12-19 20:00:00       4        0           1        1  14.76   \n",
       "10883  2012-12-19 21:00:00       4        0           1        1  13.94   \n",
       "10884  2012-12-19 22:00:00       4        0           1        1  13.94   \n",
       "10885  2012-12-19 23:00:00       4        0           1        1  13.12   \n",
       "\n",
       "        atemp  humidity  windspeed  casual  registered  count  \n",
       "0      14.395        81     0.0000       3          13     16  \n",
       "1      13.635        80     0.0000       8          32     40  \n",
       "2      13.635        80     0.0000       5          27     32  \n",
       "3      14.395        75     0.0000       3          10     13  \n",
       "4      14.395        75     0.0000       0           1      1  \n",
       "...       ...       ...        ...     ...         ...    ...  \n",
       "10881  19.695        50    26.0027       7         329    336  \n",
       "10882  17.425        57    15.0013      10         231    241  \n",
       "10883  15.910        61    15.0013       4         164    168  \n",
       "10884  17.425        61     6.0032      12         117    129  \n",
       "10885  16.665        66     8.9981       4          84     88  \n",
       "\n",
       "[10886 rows x 12 columns]"
      ]
     },
     "execution_count": 2,
     "metadata": {},
     "output_type": "execute_result"
    }
   ],
   "source": [
    "train = pd.read_csv('/kaggle/input/bike-sharing-demand/train.csv')\n",
    "train"
   ]
  },
  {
   "cell_type": "code",
   "execution_count": 3,
   "id": "b6280a50",
   "metadata": {
    "execution": {
     "iopub.execute_input": "2021-10-26T04:16:58.114779Z",
     "iopub.status.busy": "2021-10-26T04:16:58.113876Z",
     "iopub.status.idle": "2021-10-26T04:16:58.152209Z",
     "shell.execute_reply": "2021-10-26T04:16:58.151660Z",
     "shell.execute_reply.started": "2021-10-26T03:54:02.897649Z"
    },
    "papermill": {
     "duration": 0.057914,
     "end_time": "2021-10-26T04:16:58.152363",
     "exception": false,
     "start_time": "2021-10-26T04:16:58.094449",
     "status": "completed"
    },
    "tags": []
   },
   "outputs": [
    {
     "data": {
      "text/html": [
       "<div>\n",
       "<style scoped>\n",
       "    .dataframe tbody tr th:only-of-type {\n",
       "        vertical-align: middle;\n",
       "    }\n",
       "\n",
       "    .dataframe tbody tr th {\n",
       "        vertical-align: top;\n",
       "    }\n",
       "\n",
       "    .dataframe thead th {\n",
       "        text-align: right;\n",
       "    }\n",
       "</style>\n",
       "<table border=\"1\" class=\"dataframe\">\n",
       "  <thead>\n",
       "    <tr style=\"text-align: right;\">\n",
       "      <th></th>\n",
       "      <th>datetime</th>\n",
       "      <th>season</th>\n",
       "      <th>holiday</th>\n",
       "      <th>workingday</th>\n",
       "      <th>weather</th>\n",
       "      <th>temp</th>\n",
       "      <th>atemp</th>\n",
       "      <th>humidity</th>\n",
       "      <th>windspeed</th>\n",
       "    </tr>\n",
       "  </thead>\n",
       "  <tbody>\n",
       "    <tr>\n",
       "      <th>0</th>\n",
       "      <td>2011-01-20 00:00:00</td>\n",
       "      <td>1</td>\n",
       "      <td>0</td>\n",
       "      <td>1</td>\n",
       "      <td>1</td>\n",
       "      <td>10.66</td>\n",
       "      <td>11.365</td>\n",
       "      <td>56</td>\n",
       "      <td>26.0027</td>\n",
       "    </tr>\n",
       "    <tr>\n",
       "      <th>1</th>\n",
       "      <td>2011-01-20 01:00:00</td>\n",
       "      <td>1</td>\n",
       "      <td>0</td>\n",
       "      <td>1</td>\n",
       "      <td>1</td>\n",
       "      <td>10.66</td>\n",
       "      <td>13.635</td>\n",
       "      <td>56</td>\n",
       "      <td>0.0000</td>\n",
       "    </tr>\n",
       "    <tr>\n",
       "      <th>2</th>\n",
       "      <td>2011-01-20 02:00:00</td>\n",
       "      <td>1</td>\n",
       "      <td>0</td>\n",
       "      <td>1</td>\n",
       "      <td>1</td>\n",
       "      <td>10.66</td>\n",
       "      <td>13.635</td>\n",
       "      <td>56</td>\n",
       "      <td>0.0000</td>\n",
       "    </tr>\n",
       "    <tr>\n",
       "      <th>3</th>\n",
       "      <td>2011-01-20 03:00:00</td>\n",
       "      <td>1</td>\n",
       "      <td>0</td>\n",
       "      <td>1</td>\n",
       "      <td>1</td>\n",
       "      <td>10.66</td>\n",
       "      <td>12.880</td>\n",
       "      <td>56</td>\n",
       "      <td>11.0014</td>\n",
       "    </tr>\n",
       "    <tr>\n",
       "      <th>4</th>\n",
       "      <td>2011-01-20 04:00:00</td>\n",
       "      <td>1</td>\n",
       "      <td>0</td>\n",
       "      <td>1</td>\n",
       "      <td>1</td>\n",
       "      <td>10.66</td>\n",
       "      <td>12.880</td>\n",
       "      <td>56</td>\n",
       "      <td>11.0014</td>\n",
       "    </tr>\n",
       "    <tr>\n",
       "      <th>...</th>\n",
       "      <td>...</td>\n",
       "      <td>...</td>\n",
       "      <td>...</td>\n",
       "      <td>...</td>\n",
       "      <td>...</td>\n",
       "      <td>...</td>\n",
       "      <td>...</td>\n",
       "      <td>...</td>\n",
       "      <td>...</td>\n",
       "    </tr>\n",
       "    <tr>\n",
       "      <th>6488</th>\n",
       "      <td>2012-12-31 19:00:00</td>\n",
       "      <td>1</td>\n",
       "      <td>0</td>\n",
       "      <td>1</td>\n",
       "      <td>2</td>\n",
       "      <td>10.66</td>\n",
       "      <td>12.880</td>\n",
       "      <td>60</td>\n",
       "      <td>11.0014</td>\n",
       "    </tr>\n",
       "    <tr>\n",
       "      <th>6489</th>\n",
       "      <td>2012-12-31 20:00:00</td>\n",
       "      <td>1</td>\n",
       "      <td>0</td>\n",
       "      <td>1</td>\n",
       "      <td>2</td>\n",
       "      <td>10.66</td>\n",
       "      <td>12.880</td>\n",
       "      <td>60</td>\n",
       "      <td>11.0014</td>\n",
       "    </tr>\n",
       "    <tr>\n",
       "      <th>6490</th>\n",
       "      <td>2012-12-31 21:00:00</td>\n",
       "      <td>1</td>\n",
       "      <td>0</td>\n",
       "      <td>1</td>\n",
       "      <td>1</td>\n",
       "      <td>10.66</td>\n",
       "      <td>12.880</td>\n",
       "      <td>60</td>\n",
       "      <td>11.0014</td>\n",
       "    </tr>\n",
       "    <tr>\n",
       "      <th>6491</th>\n",
       "      <td>2012-12-31 22:00:00</td>\n",
       "      <td>1</td>\n",
       "      <td>0</td>\n",
       "      <td>1</td>\n",
       "      <td>1</td>\n",
       "      <td>10.66</td>\n",
       "      <td>13.635</td>\n",
       "      <td>56</td>\n",
       "      <td>8.9981</td>\n",
       "    </tr>\n",
       "    <tr>\n",
       "      <th>6492</th>\n",
       "      <td>2012-12-31 23:00:00</td>\n",
       "      <td>1</td>\n",
       "      <td>0</td>\n",
       "      <td>1</td>\n",
       "      <td>1</td>\n",
       "      <td>10.66</td>\n",
       "      <td>13.635</td>\n",
       "      <td>65</td>\n",
       "      <td>8.9981</td>\n",
       "    </tr>\n",
       "  </tbody>\n",
       "</table>\n",
       "<p>6493 rows × 9 columns</p>\n",
       "</div>"
      ],
      "text/plain": [
       "                 datetime  season  holiday  workingday  weather   temp  \\\n",
       "0     2011-01-20 00:00:00       1        0           1        1  10.66   \n",
       "1     2011-01-20 01:00:00       1        0           1        1  10.66   \n",
       "2     2011-01-20 02:00:00       1        0           1        1  10.66   \n",
       "3     2011-01-20 03:00:00       1        0           1        1  10.66   \n",
       "4     2011-01-20 04:00:00       1        0           1        1  10.66   \n",
       "...                   ...     ...      ...         ...      ...    ...   \n",
       "6488  2012-12-31 19:00:00       1        0           1        2  10.66   \n",
       "6489  2012-12-31 20:00:00       1        0           1        2  10.66   \n",
       "6490  2012-12-31 21:00:00       1        0           1        1  10.66   \n",
       "6491  2012-12-31 22:00:00       1        0           1        1  10.66   \n",
       "6492  2012-12-31 23:00:00       1        0           1        1  10.66   \n",
       "\n",
       "       atemp  humidity  windspeed  \n",
       "0     11.365        56    26.0027  \n",
       "1     13.635        56     0.0000  \n",
       "2     13.635        56     0.0000  \n",
       "3     12.880        56    11.0014  \n",
       "4     12.880        56    11.0014  \n",
       "...      ...       ...        ...  \n",
       "6488  12.880        60    11.0014  \n",
       "6489  12.880        60    11.0014  \n",
       "6490  12.880        60    11.0014  \n",
       "6491  13.635        56     8.9981  \n",
       "6492  13.635        65     8.9981  \n",
       "\n",
       "[6493 rows x 9 columns]"
      ]
     },
     "execution_count": 3,
     "metadata": {},
     "output_type": "execute_result"
    }
   ],
   "source": [
    "test = pd.read_csv('/kaggle/input/bike-sharing-demand/test.csv')\n",
    "test"
   ]
  },
  {
   "cell_type": "code",
   "execution_count": 4,
   "id": "837f40cd",
   "metadata": {
    "execution": {
     "iopub.execute_input": "2021-10-26T04:16:58.191197Z",
     "iopub.status.busy": "2021-10-26T04:16:58.190256Z",
     "iopub.status.idle": "2021-10-26T04:16:58.215509Z",
     "shell.execute_reply": "2021-10-26T04:16:58.214938Z",
     "shell.execute_reply.started": "2021-10-26T03:54:02.938522Z"
    },
    "papermill": {
     "duration": 0.0456,
     "end_time": "2021-10-26T04:16:58.215666",
     "exception": false,
     "start_time": "2021-10-26T04:16:58.170066",
     "status": "completed"
    },
    "tags": []
   },
   "outputs": [
    {
     "data": {
      "text/html": [
       "<div>\n",
       "<style scoped>\n",
       "    .dataframe tbody tr th:only-of-type {\n",
       "        vertical-align: middle;\n",
       "    }\n",
       "\n",
       "    .dataframe tbody tr th {\n",
       "        vertical-align: top;\n",
       "    }\n",
       "\n",
       "    .dataframe thead th {\n",
       "        text-align: right;\n",
       "    }\n",
       "</style>\n",
       "<table border=\"1\" class=\"dataframe\">\n",
       "  <thead>\n",
       "    <tr style=\"text-align: right;\">\n",
       "      <th></th>\n",
       "      <th>datetime</th>\n",
       "      <th>count</th>\n",
       "    </tr>\n",
       "  </thead>\n",
       "  <tbody>\n",
       "    <tr>\n",
       "      <th>0</th>\n",
       "      <td>2011-01-20 00:00:00</td>\n",
       "      <td>0</td>\n",
       "    </tr>\n",
       "    <tr>\n",
       "      <th>1</th>\n",
       "      <td>2011-01-20 01:00:00</td>\n",
       "      <td>0</td>\n",
       "    </tr>\n",
       "    <tr>\n",
       "      <th>2</th>\n",
       "      <td>2011-01-20 02:00:00</td>\n",
       "      <td>0</td>\n",
       "    </tr>\n",
       "    <tr>\n",
       "      <th>3</th>\n",
       "      <td>2011-01-20 03:00:00</td>\n",
       "      <td>0</td>\n",
       "    </tr>\n",
       "    <tr>\n",
       "      <th>4</th>\n",
       "      <td>2011-01-20 04:00:00</td>\n",
       "      <td>0</td>\n",
       "    </tr>\n",
       "    <tr>\n",
       "      <th>...</th>\n",
       "      <td>...</td>\n",
       "      <td>...</td>\n",
       "    </tr>\n",
       "    <tr>\n",
       "      <th>6488</th>\n",
       "      <td>2012-12-31 19:00:00</td>\n",
       "      <td>0</td>\n",
       "    </tr>\n",
       "    <tr>\n",
       "      <th>6489</th>\n",
       "      <td>2012-12-31 20:00:00</td>\n",
       "      <td>0</td>\n",
       "    </tr>\n",
       "    <tr>\n",
       "      <th>6490</th>\n",
       "      <td>2012-12-31 21:00:00</td>\n",
       "      <td>0</td>\n",
       "    </tr>\n",
       "    <tr>\n",
       "      <th>6491</th>\n",
       "      <td>2012-12-31 22:00:00</td>\n",
       "      <td>0</td>\n",
       "    </tr>\n",
       "    <tr>\n",
       "      <th>6492</th>\n",
       "      <td>2012-12-31 23:00:00</td>\n",
       "      <td>0</td>\n",
       "    </tr>\n",
       "  </tbody>\n",
       "</table>\n",
       "<p>6493 rows × 2 columns</p>\n",
       "</div>"
      ],
      "text/plain": [
       "                 datetime  count\n",
       "0     2011-01-20 00:00:00      0\n",
       "1     2011-01-20 01:00:00      0\n",
       "2     2011-01-20 02:00:00      0\n",
       "3     2011-01-20 03:00:00      0\n",
       "4     2011-01-20 04:00:00      0\n",
       "...                   ...    ...\n",
       "6488  2012-12-31 19:00:00      0\n",
       "6489  2012-12-31 20:00:00      0\n",
       "6490  2012-12-31 21:00:00      0\n",
       "6491  2012-12-31 22:00:00      0\n",
       "6492  2012-12-31 23:00:00      0\n",
       "\n",
       "[6493 rows x 2 columns]"
      ]
     },
     "execution_count": 4,
     "metadata": {},
     "output_type": "execute_result"
    }
   ],
   "source": [
    "sub = pd.read_csv('/kaggle/input/bike-sharing-demand/sampleSubmission.csv')\n",
    "sub"
   ]
  },
  {
   "cell_type": "markdown",
   "id": "f92b5834",
   "metadata": {
    "papermill": {
     "duration": 0.017017,
     "end_time": "2021-10-26T04:16:58.250450",
     "exception": false,
     "start_time": "2021-10-26T04:16:58.233433",
     "status": "completed"
    },
    "tags": []
   },
   "source": [
    "- Casual, Registered are not necessary features beacause train data set have different # of columns from test data set's.\n",
    "- train data and test data are not duplicated"
   ]
  },
  {
   "cell_type": "code",
   "execution_count": 5,
   "id": "e24b4a79",
   "metadata": {
    "execution": {
     "iopub.execute_input": "2021-10-26T04:16:58.289485Z",
     "iopub.status.busy": "2021-10-26T04:16:58.288553Z",
     "iopub.status.idle": "2021-10-26T04:16:59.745298Z",
     "shell.execute_reply": "2021-10-26T04:16:59.745841Z",
     "shell.execute_reply.started": "2021-10-26T03:58:05.483821Z"
    },
    "papermill": {
     "duration": 1.478041,
     "end_time": "2021-10-26T04:16:59.746007",
     "exception": false,
     "start_time": "2021-10-26T04:16:58.267966",
     "status": "completed"
    },
    "tags": []
   },
   "outputs": [
    {
     "name": "stderr",
     "output_type": "stream",
     "text": [
      "/opt/conda/lib/python3.7/site-packages/seaborn/distributions.py:2619: FutureWarning: `distplot` is a deprecated function and will be removed in a future version. Please adapt your code to use either `displot` (a figure-level function with similar flexibility) or `histplot` (an axes-level function for histograms).\n",
      "  warnings.warn(msg, FutureWarning)\n"
     ]
    },
    {
     "data": {
      "text/plain": [
       "<AxesSubplot:xlabel='count', ylabel='Density'>"
      ]
     },
     "execution_count": 5,
     "metadata": {},
     "output_type": "execute_result"
    },
    {
     "data": {
      "image/png": "[encoded data removed]",
      "text/plain": [
       "<Figure size 432x288 with 1 Axes>"
      ]
     },
     "metadata": {
      "needs_background": "light"
     },
     "output_type": "display_data"
    }
   ],
   "source": [
    "import seaborn as sns\n",
    "\n",
    "sns.distplot(train['count'])"
   ]
  },
  {
   "cell_type": "markdown",
   "id": "ad4383a6",
   "metadata": {
    "papermill": {
     "duration": 0.018545,
     "end_time": "2021-10-26T04:16:59.783452",
     "exception": false,
     "start_time": "2021-10-26T04:16:59.764907",
     "status": "completed"
    },
    "tags": []
   },
   "source": [
    "- Is it enough to ML? Nope. The tail is too long\n",
    "- Normalization can be a solution(But we still don't know how to do it)"
   ]
  },
  {
   "cell_type": "code",
   "execution_count": 6,
   "id": "2cac8e26",
   "metadata": {
    "execution": {
     "iopub.execute_input": "2021-10-26T04:16:59.824967Z",
     "iopub.status.busy": "2021-10-26T04:16:59.824339Z",
     "iopub.status.idle": "2021-10-26T04:17:00.220418Z",
     "shell.execute_reply": "2021-10-26T04:17:00.219755Z",
     "shell.execute_reply.started": "2021-10-26T03:59:42.604806Z"
    },
    "papermill": {
     "duration": 0.417828,
     "end_time": "2021-10-26T04:17:00.220565",
     "exception": false,
     "start_time": "2021-10-26T04:16:59.802737",
     "status": "completed"
    },
    "tags": []
   },
   "outputs": [
    {
     "name": "stderr",
     "output_type": "stream",
     "text": [
      "/opt/conda/lib/python3.7/site-packages/seaborn/distributions.py:2619: FutureWarning: `distplot` is a deprecated function and will be removed in a future version. Please adapt your code to use either `displot` (a figure-level function with similar flexibility) or `histplot` (an axes-level function for histograms).\n",
      "  warnings.warn(msg, FutureWarning)\n"
     ]
    },
    {
     "data": {
      "text/plain": [
       "<AxesSubplot:xlabel='count', ylabel='Density'>"
      ]
     },
     "execution_count": 6,
     "metadata": {},
     "output_type": "execute_result"
    },
    {
     "data": {
      "image/png": "[encoded data removed]",
      "text/plain": [
       "<Figure size 432x288 with 1 Axes>"
      ]
     },
     "metadata": {
      "needs_background": "light"
     },
     "output_type": "display_data"
    }
   ],
   "source": [
    "# take logarithm\n",
    "sns.distplot(np.log(train['count']))"
   ]
  },
  {
   "cell_type": "markdown",
   "id": "061ceab9",
   "metadata": {
    "papermill": {
     "duration": 0.019189,
     "end_time": "2021-10-26T04:17:00.259719",
     "exception": false,
     "start_time": "2021-10-26T04:17:00.240530",
     "status": "completed"
    },
    "tags": []
   },
   "source": [
    "- take logarithm for quasi-normaliztion\n",
    "- It's still far from normali distribution. but better than before."
   ]
  },
  {
   "cell_type": "markdown",
   "id": "60c063c6",
   "metadata": {
    "papermill": {
     "duration": 0.019449,
     "end_time": "2021-10-26T04:17:00.298738",
     "exception": false,
     "start_time": "2021-10-26T04:17:00.279289",
     "status": "completed"
    },
    "tags": []
   },
   "source": [
    "cf) When it comes to categorical variables, distribution is not considerable factor except clustering based on distance."
   ]
  },
  {
   "cell_type": "code",
   "execution_count": 7,
   "id": "28cd8136",
   "metadata": {
    "execution": {
     "iopub.execute_input": "2021-10-26T04:17:00.341396Z",
     "iopub.status.busy": "2021-10-26T04:17:00.340486Z",
     "iopub.status.idle": "2021-10-26T04:17:00.354882Z",
     "shell.execute_reply": "2021-10-26T04:17:00.355453Z",
     "shell.execute_reply.started": "2021-10-26T04:04:54.977182Z"
    },
    "papermill": {
     "duration": 0.037376,
     "end_time": "2021-10-26T04:17:00.355626",
     "exception": false,
     "start_time": "2021-10-26T04:17:00.318250",
     "status": "completed"
    },
    "tags": []
   },
   "outputs": [
    {
     "data": {
      "text/plain": [
       "humidity     -0.317371\n",
       "weather      -0.128655\n",
       "holiday      -0.005393\n",
       "workingday    0.011594\n",
       "windspeed     0.101369\n",
       "season        0.163439\n",
       "atemp         0.389784\n",
       "temp          0.394454\n",
       "casual        0.690414\n",
       "registered    0.970948\n",
       "count         1.000000\n",
       "Name: count, dtype: float64"
      ]
     },
     "execution_count": 7,
     "metadata": {},
     "output_type": "execute_result"
    }
   ],
   "source": [
    "train_corr = train.corr()['count'].sort_values()\n",
    "train_corr"
   ]
  },
  {
   "cell_type": "markdown",
   "id": "2af402a1",
   "metadata": {
    "papermill": {
     "duration": 0.019604,
     "end_time": "2021-10-26T04:17:00.395333",
     "exception": false,
     "start_time": "2021-10-26T04:17:00.375729",
     "status": "completed"
    },
    "tags": []
   },
   "source": [
    "- Correlation is imperative in numerical data, not in categorical."
   ]
  },
  {
   "cell_type": "code",
   "execution_count": 8,
   "id": "dccb765f",
   "metadata": {
    "execution": {
     "iopub.execute_input": "2021-10-26T04:17:00.438500Z",
     "iopub.status.busy": "2021-10-26T04:17:00.437608Z",
     "iopub.status.idle": "2021-10-26T04:17:00.459842Z",
     "shell.execute_reply": "2021-10-26T04:17:00.460346Z",
     "shell.execute_reply.started": "2021-10-26T04:06:21.922706Z"
    },
    "papermill": {
     "duration": 0.045472,
     "end_time": "2021-10-26T04:17:00.460514",
     "exception": false,
     "start_time": "2021-10-26T04:17:00.415042",
     "status": "completed"
    },
    "tags": []
   },
   "outputs": [],
   "source": [
    "# datetime looks crucial, so separate and divide for making features.\n",
    "train['datetime'] = pd.to_datetime(train['datetime'])\n",
    "test['datetime'] = pd.to_datetime(test['datetime'])\n",
    "\n",
    "train['hour'] = train['datetime'].dt.hour\n",
    "train['year'] = train['datetime'].dt.year\n",
    "train['weekday'] = train['datetime'].dt.weekday\n",
    "\n",
    "test['hour'] = test['datetime'].dt.hour\n",
    "test['year'] = test['datetime'].dt.year\n",
    "test['weekday'] = test['datetime'].dt.weekday"
   ]
  },
  {
   "cell_type": "markdown",
   "id": "f49d431f",
   "metadata": {
    "papermill": {
     "duration": 0.019724,
     "end_time": "2021-10-26T04:17:00.500242",
     "exception": false,
     "start_time": "2021-10-26T04:17:00.480518",
     "status": "completed"
    },
    "tags": []
   },
   "source": [
    "- Don't need to use all df whenever you code."
   ]
  },
  {
   "cell_type": "code",
   "execution_count": 9,
   "id": "4e7e2fdb",
   "metadata": {
    "execution": {
     "iopub.execute_input": "2021-10-26T04:17:00.544033Z",
     "iopub.status.busy": "2021-10-26T04:17:00.543120Z",
     "iopub.status.idle": "2021-10-26T04:17:00.550821Z",
     "shell.execute_reply": "2021-10-26T04:17:00.551355Z",
     "shell.execute_reply.started": "2021-10-26T04:11:07.190827Z"
    },
    "papermill": {
     "duration": 0.031194,
     "end_time": "2021-10-26T04:17:00.551520",
     "exception": false,
     "start_time": "2021-10-26T04:17:00.520326",
     "status": "completed"
    },
    "tags": []
   },
   "outputs": [],
   "source": [
    "workingday_df = train[train['workingday'] == 1]\n",
    "weekend_df = train[train['workingday'] == 0]"
   ]
  },
  {
   "cell_type": "code",
   "execution_count": 10,
   "id": "e375e3d9",
   "metadata": {
    "execution": {
     "iopub.execute_input": "2021-10-26T04:17:00.594850Z",
     "iopub.status.busy": "2021-10-26T04:17:00.593884Z",
     "iopub.status.idle": "2021-10-26T04:17:01.160143Z",
     "shell.execute_reply": "2021-10-26T04:17:01.160613Z",
     "shell.execute_reply.started": "2021-10-26T04:11:09.201269Z"
    },
    "papermill": {
     "duration": 0.589401,
     "end_time": "2021-10-26T04:17:01.160779",
     "exception": false,
     "start_time": "2021-10-26T04:17:00.571378",
     "status": "completed"
    },
    "tags": []
   },
   "outputs": [
    {
     "name": "stderr",
     "output_type": "stream",
     "text": [
      "/opt/conda/lib/python3.7/site-packages/seaborn/_decorators.py:43: FutureWarning: Pass the following variables as keyword args: x, y. From version 0.12, the only valid positional argument will be `data`, and passing other arguments without an explicit keyword will result in an error or misinterpretation.\n",
      "  FutureWarning\n"
     ]
    },
    {
     "data": {
      "text/plain": [
       "<AxesSubplot:xlabel='hour', ylabel='count'>"
      ]
     },
     "execution_count": 10,
     "metadata": {},
     "output_type": "execute_result"
    },
    {
     "data": {
      "image/png": "[encoded data removed]",
      "text/plain": [
       "<Figure size 1152x720 with 1 Axes>"
      ]
     },
     "metadata": {
      "needs_background": "light"
     },
     "output_type": "display_data"
    }
   ],
   "source": [
    "import matplotlib.pyplot as plt\n",
    "\n",
    "plt.figure(figsize=(16, 10))\n",
    "sns.boxplot(weekend_df['hour'], weekend_df['count'], showfliers=False)"
   ]
  },
  {
   "cell_type": "code",
   "execution_count": 11,
   "id": "caa6d9ce",
   "metadata": {
    "execution": {
     "iopub.execute_input": "2021-10-26T04:17:01.207454Z",
     "iopub.status.busy": "2021-10-26T04:17:01.205868Z",
     "iopub.status.idle": "2021-10-26T04:17:01.747347Z",
     "shell.execute_reply": "2021-10-26T04:17:01.746845Z",
     "shell.execute_reply.started": "2021-10-26T04:11:17.301663Z"
    },
    "papermill": {
     "duration": 0.565305,
     "end_time": "2021-10-26T04:17:01.747479",
     "exception": false,
     "start_time": "2021-10-26T04:17:01.182174",
     "status": "completed"
    },
    "tags": []
   },
   "outputs": [
    {
     "name": "stderr",
     "output_type": "stream",
     "text": [
      "/opt/conda/lib/python3.7/site-packages/seaborn/_decorators.py:43: FutureWarning: Pass the following variables as keyword args: x, y. From version 0.12, the only valid positional argument will be `data`, and passing other arguments without an explicit keyword will result in an error or misinterpretation.\n",
      "  FutureWarning\n"
     ]
    },
    {
     "data": {
      "text/plain": [
       "<AxesSubplot:xlabel='hour', ylabel='count'>"
      ]
     },
     "execution_count": 11,
     "metadata": {},
     "output_type": "execute_result"
    },
    {
     "data": {
      "image/png": "[encoded data removed]",
      "text/plain": [
       "<Figure size 1152x720 with 1 Axes>"
      ]
     },
     "metadata": {
      "needs_background": "light"
     },
     "output_type": "display_data"
    }
   ],
   "source": [
    "plt.figure(figsize=(16, 10))\n",
    "sns.boxplot(workingday_df['hour'], workingday_df['count'], showfliers=False)"
   ]
  },
  {
   "cell_type": "markdown",
   "id": "5e84108f",
   "metadata": {
    "papermill": {
     "duration": 0.022456,
     "end_time": "2021-10-26T04:17:01.793138",
     "exception": false,
     "start_time": "2021-10-26T04:17:01.770682",
     "status": "completed"
    },
    "tags": []
   },
   "source": [
    "- The distributions are cleary different"
   ]
  },
  {
   "cell_type": "code",
   "execution_count": 12,
   "id": "f5681ebe",
   "metadata": {
    "execution": {
     "iopub.execute_input": "2021-10-26T04:17:01.842321Z",
     "iopub.status.busy": "2021-10-26T04:17:01.841714Z",
     "iopub.status.idle": "2021-10-26T04:17:01.847587Z",
     "shell.execute_reply": "2021-10-26T04:17:01.848009Z",
     "shell.execute_reply.started": "2021-10-26T04:12:22.602117Z"
    },
    "papermill": {
     "duration": 0.031801,
     "end_time": "2021-10-26T04:17:01.848199",
     "exception": false,
     "start_time": "2021-10-26T04:17:01.816398",
     "status": "completed"
    },
    "tags": []
   },
   "outputs": [],
   "source": [
    "train2 = train.drop(columns=['datetime', 'casual', 'registered', 'count'])\n",
    "test2 = test.drop(columns=['datetime'])"
   ]
  },
  {
   "cell_type": "code",
   "execution_count": 13,
   "id": "e96020b5",
   "metadata": {
    "execution": {
     "iopub.execute_input": "2021-10-26T04:17:01.898232Z",
     "iopub.status.busy": "2021-10-26T04:17:01.897662Z",
     "iopub.status.idle": "2021-10-26T04:17:01.902121Z",
     "shell.execute_reply": "2021-10-26T04:17:01.902540Z",
     "shell.execute_reply.started": "2021-10-26T04:12:25.641232Z"
    },
    "papermill": {
     "duration": 0.030751,
     "end_time": "2021-10-26T04:17:01.902701",
     "exception": false,
     "start_time": "2021-10-26T04:17:01.871950",
     "status": "completed"
    },
    "tags": []
   },
   "outputs": [
    {
     "data": {
      "text/plain": [
       "(10886, 11)"
      ]
     },
     "execution_count": 13,
     "metadata": {},
     "output_type": "execute_result"
    }
   ],
   "source": [
    "train2.shape"
   ]
  },
  {
   "cell_type": "code",
   "execution_count": 14,
   "id": "6c6c922f",
   "metadata": {
    "execution": {
     "iopub.execute_input": "2021-10-26T04:17:01.952327Z",
     "iopub.status.busy": "2021-10-26T04:17:01.951725Z",
     "iopub.status.idle": "2021-10-26T04:17:01.955782Z",
     "shell.execute_reply": "2021-10-26T04:17:01.956255Z",
     "shell.execute_reply.started": "2021-10-26T04:12:26.156353Z"
    },
    "papermill": {
     "duration": 0.030794,
     "end_time": "2021-10-26T04:17:01.956445",
     "exception": false,
     "start_time": "2021-10-26T04:17:01.925651",
     "status": "completed"
    },
    "tags": []
   },
   "outputs": [
    {
     "data": {
      "text/plain": [
       "(6493, 11)"
      ]
     },
     "execution_count": 14,
     "metadata": {},
     "output_type": "execute_result"
    }
   ],
   "source": [
    "test2.shape"
   ]
  },
  {
   "cell_type": "code",
   "execution_count": 15,
   "id": "4361e078",
   "metadata": {
    "execution": {
     "iopub.execute_input": "2021-10-26T04:17:02.006545Z",
     "iopub.status.busy": "2021-10-26T04:17:02.005933Z",
     "iopub.status.idle": "2021-10-26T04:17:02.421478Z",
     "shell.execute_reply": "2021-10-26T04:17:02.421922Z",
     "shell.execute_reply.started": "2021-10-26T04:12:28.372004Z"
    },
    "papermill": {
     "duration": 0.441822,
     "end_time": "2021-10-26T04:17:02.422125",
     "exception": false,
     "start_time": "2021-10-26T04:17:01.980303",
     "status": "completed"
    },
    "tags": []
   },
   "outputs": [],
   "source": [
    "from sklearn.ensemble import RandomForestRegressor\n",
    "from xgboost import XGBRegressor"
   ]
  },
  {
   "cell_type": "code",
   "execution_count": 16,
   "id": "d28ddaba",
   "metadata": {
    "execution": {
     "iopub.execute_input": "2021-10-26T04:17:02.472216Z",
     "iopub.status.busy": "2021-10-26T04:17:02.471622Z",
     "iopub.status.idle": "2021-10-26T04:17:06.554520Z",
     "shell.execute_reply": "2021-10-26T04:17:06.553831Z",
     "shell.execute_reply.started": "2021-10-26T04:14:06.686831Z"
    },
    "papermill": {
     "duration": 4.109053,
     "end_time": "2021-10-26T04:17:06.554661",
     "exception": false,
     "start_time": "2021-10-26T04:17:02.445608",
     "status": "completed"
    },
    "tags": []
   },
   "outputs": [
    {
     "data": {
      "text/plain": [
       "array([2.49180176, 1.53124278, 1.1148476 , ..., 4.57981124, 4.57515773,\n",
       "       3.84617903])"
      ]
     },
     "execution_count": 16,
     "metadata": {},
     "output_type": "execute_result"
    }
   ],
   "source": [
    "rf = RandomForestRegressor()\n",
    "#rf.fit(train2, train['count'])\n",
    "\n",
    "# quasi-normalization\n",
    "rf.fit(train2, np.log(train['count']))\n",
    "result = rf.predict(test2)\n",
    "result"
   ]
  },
  {
   "cell_type": "code",
   "execution_count": 17,
   "id": "da93a01d",
   "metadata": {
    "execution": {
     "iopub.execute_input": "2021-10-26T04:17:06.607592Z",
     "iopub.status.busy": "2021-10-26T04:17:06.606904Z",
     "iopub.status.idle": "2021-10-26T04:17:07.136296Z",
     "shell.execute_reply": "2021-10-26T04:17:07.136716Z",
     "shell.execute_reply.started": "2021-10-26T04:14:18.383181Z"
    },
    "papermill": {
     "duration": 0.558596,
     "end_time": "2021-10-26T04:17:07.136886",
     "exception": false,
     "start_time": "2021-10-26T04:17:06.578290",
     "status": "completed"
    },
    "tags": []
   },
   "outputs": [
    {
     "data": {
      "text/plain": [
       "array([2.5847926, 1.5350819, 1.0873566, ..., 4.677237 , 4.430875 ,\n",
       "       3.7597647], dtype=float32)"
      ]
     },
     "execution_count": 17,
     "metadata": {},
     "output_type": "execute_result"
    }
   ],
   "source": [
    "# XGB is highly sensitive to changing hyperparameters.\n",
    "# Boosting models ouputs are same whenever you run the codes.\n",
    "model = XGBRegressor(learning_rate=0.1)\n",
    "model.fit(train2, np.log(train['count']))\n",
    "result2 = model.predict(test2)\n",
    "result2"
   ]
  },
  {
   "cell_type": "code",
   "execution_count": 18,
   "id": "9a194764",
   "metadata": {
    "execution": {
     "iopub.execute_input": "2021-10-26T04:17:07.195414Z",
     "iopub.status.busy": "2021-10-26T04:17:07.194747Z",
     "iopub.status.idle": "2021-10-26T04:17:07.197261Z",
     "shell.execute_reply": "2021-10-26T04:17:07.197700Z",
     "shell.execute_reply.started": "2021-10-26T04:14:26.288091Z"
    },
    "papermill": {
     "duration": 0.036898,
     "end_time": "2021-10-26T04:17:07.197855",
     "exception": false,
     "start_time": "2021-10-26T04:17:07.160957",
     "status": "completed"
    },
    "tags": []
   },
   "outputs": [
    {
     "data": {
      "text/html": [
       "<div>\n",
       "<style scoped>\n",
       "    .dataframe tbody tr th:only-of-type {\n",
       "        vertical-align: middle;\n",
       "    }\n",
       "\n",
       "    .dataframe tbody tr th {\n",
       "        vertical-align: top;\n",
       "    }\n",
       "\n",
       "    .dataframe thead th {\n",
       "        text-align: right;\n",
       "    }\n",
       "</style>\n",
       "<table border=\"1\" class=\"dataframe\">\n",
       "  <thead>\n",
       "    <tr style=\"text-align: right;\">\n",
       "      <th></th>\n",
       "      <th>datetime</th>\n",
       "      <th>count</th>\n",
       "    </tr>\n",
       "  </thead>\n",
       "  <tbody>\n",
       "    <tr>\n",
       "      <th>0</th>\n",
       "      <td>2011-01-20 00:00:00</td>\n",
       "      <td>0</td>\n",
       "    </tr>\n",
       "    <tr>\n",
       "      <th>1</th>\n",
       "      <td>2011-01-20 01:00:00</td>\n",
       "      <td>0</td>\n",
       "    </tr>\n",
       "    <tr>\n",
       "      <th>2</th>\n",
       "      <td>2011-01-20 02:00:00</td>\n",
       "      <td>0</td>\n",
       "    </tr>\n",
       "    <tr>\n",
       "      <th>3</th>\n",
       "      <td>2011-01-20 03:00:00</td>\n",
       "      <td>0</td>\n",
       "    </tr>\n",
       "    <tr>\n",
       "      <th>4</th>\n",
       "      <td>2011-01-20 04:00:00</td>\n",
       "      <td>0</td>\n",
       "    </tr>\n",
       "    <tr>\n",
       "      <th>...</th>\n",
       "      <td>...</td>\n",
       "      <td>...</td>\n",
       "    </tr>\n",
       "    <tr>\n",
       "      <th>6488</th>\n",
       "      <td>2012-12-31 19:00:00</td>\n",
       "      <td>0</td>\n",
       "    </tr>\n",
       "    <tr>\n",
       "      <th>6489</th>\n",
       "      <td>2012-12-31 20:00:00</td>\n",
       "      <td>0</td>\n",
       "    </tr>\n",
       "    <tr>\n",
       "      <th>6490</th>\n",
       "      <td>2012-12-31 21:00:00</td>\n",
       "      <td>0</td>\n",
       "    </tr>\n",
       "    <tr>\n",
       "      <th>6491</th>\n",
       "      <td>2012-12-31 22:00:00</td>\n",
       "      <td>0</td>\n",
       "    </tr>\n",
       "    <tr>\n",
       "      <th>6492</th>\n",
       "      <td>2012-12-31 23:00:00</td>\n",
       "      <td>0</td>\n",
       "    </tr>\n",
       "  </tbody>\n",
       "</table>\n",
       "<p>6493 rows × 2 columns</p>\n",
       "</div>"
      ],
      "text/plain": [
       "                 datetime  count\n",
       "0     2011-01-20 00:00:00      0\n",
       "1     2011-01-20 01:00:00      0\n",
       "2     2011-01-20 02:00:00      0\n",
       "3     2011-01-20 03:00:00      0\n",
       "4     2011-01-20 04:00:00      0\n",
       "...                   ...    ...\n",
       "6488  2012-12-31 19:00:00      0\n",
       "6489  2012-12-31 20:00:00      0\n",
       "6490  2012-12-31 21:00:00      0\n",
       "6491  2012-12-31 22:00:00      0\n",
       "6492  2012-12-31 23:00:00      0\n",
       "\n",
       "[6493 rows x 2 columns]"
      ]
     },
     "execution_count": 18,
     "metadata": {},
     "output_type": "execute_result"
    }
   ],
   "source": [
    "sub"
   ]
  },
  {
   "cell_type": "markdown",
   "id": "2cfeec8d",
   "metadata": {
    "papermill": {
     "duration": 0.02424,
     "end_time": "2021-10-26T04:17:07.246276",
     "exception": false,
     "start_time": "2021-10-26T04:17:07.222036",
     "status": "completed"
    },
    "tags": []
   },
   "source": [
    "- sub df has same form with result"
   ]
  },
  {
   "cell_type": "code",
   "execution_count": 19,
   "id": "54c8e146",
   "metadata": {
    "execution": {
     "iopub.execute_input": "2021-10-26T04:17:07.297655Z",
     "iopub.status.busy": "2021-10-26T04:17:07.297001Z",
     "iopub.status.idle": "2021-10-26T04:17:07.308379Z",
     "shell.execute_reply": "2021-10-26T04:17:07.308826Z",
     "shell.execute_reply.started": "2021-10-26T04:15:58.577104Z"
    },
    "papermill": {
     "duration": 0.038583,
     "end_time": "2021-10-26T04:17:07.308997",
     "exception": false,
     "start_time": "2021-10-26T04:17:07.270414",
     "status": "completed"
    },
    "tags": []
   },
   "outputs": [
    {
     "data": {
      "text/html": [
       "<div>\n",
       "<style scoped>\n",
       "    .dataframe tbody tr th:only-of-type {\n",
       "        vertical-align: middle;\n",
       "    }\n",
       "\n",
       "    .dataframe tbody tr th {\n",
       "        vertical-align: top;\n",
       "    }\n",
       "\n",
       "    .dataframe thead th {\n",
       "        text-align: right;\n",
       "    }\n",
       "</style>\n",
       "<table border=\"1\" class=\"dataframe\">\n",
       "  <thead>\n",
       "    <tr style=\"text-align: right;\">\n",
       "      <th></th>\n",
       "      <th>datetime</th>\n",
       "      <th>count</th>\n",
       "    </tr>\n",
       "  </thead>\n",
       "  <tbody>\n",
       "    <tr>\n",
       "      <th>0</th>\n",
       "      <td>2011-01-20 00:00:00</td>\n",
       "      <td>13.260538</td>\n",
       "    </tr>\n",
       "    <tr>\n",
       "      <th>1</th>\n",
       "      <td>2011-01-20 01:00:00</td>\n",
       "      <td>4.641706</td>\n",
       "    </tr>\n",
       "    <tr>\n",
       "      <th>2</th>\n",
       "      <td>2011-01-20 02:00:00</td>\n",
       "      <td>2.966422</td>\n",
       "    </tr>\n",
       "    <tr>\n",
       "      <th>3</th>\n",
       "      <td>2011-01-20 03:00:00</td>\n",
       "      <td>1.744935</td>\n",
       "    </tr>\n",
       "    <tr>\n",
       "      <th>4</th>\n",
       "      <td>2011-01-20 04:00:00</td>\n",
       "      <td>1.590809</td>\n",
       "    </tr>\n",
       "    <tr>\n",
       "      <th>...</th>\n",
       "      <td>...</td>\n",
       "      <td>...</td>\n",
       "    </tr>\n",
       "    <tr>\n",
       "      <th>6488</th>\n",
       "      <td>2012-12-31 19:00:00</td>\n",
       "      <td>210.928558</td>\n",
       "    </tr>\n",
       "    <tr>\n",
       "      <th>6489</th>\n",
       "      <td>2012-12-31 20:00:00</td>\n",
       "      <td>130.723587</td>\n",
       "    </tr>\n",
       "    <tr>\n",
       "      <th>6490</th>\n",
       "      <td>2012-12-31 21:00:00</td>\n",
       "      <td>107.472717</td>\n",
       "    </tr>\n",
       "    <tr>\n",
       "      <th>6491</th>\n",
       "      <td>2012-12-31 22:00:00</td>\n",
       "      <td>84.004875</td>\n",
       "    </tr>\n",
       "    <tr>\n",
       "      <th>6492</th>\n",
       "      <td>2012-12-31 23:00:00</td>\n",
       "      <td>42.938320</td>\n",
       "    </tr>\n",
       "  </tbody>\n",
       "</table>\n",
       "<p>6493 rows × 2 columns</p>\n",
       "</div>"
      ],
      "text/plain": [
       "                 datetime       count\n",
       "0     2011-01-20 00:00:00   13.260538\n",
       "1     2011-01-20 01:00:00    4.641706\n",
       "2     2011-01-20 02:00:00    2.966422\n",
       "3     2011-01-20 03:00:00    1.744935\n",
       "4     2011-01-20 04:00:00    1.590809\n",
       "...                   ...         ...\n",
       "6488  2012-12-31 19:00:00  210.928558\n",
       "6489  2012-12-31 20:00:00  130.723587\n",
       "6490  2012-12-31 21:00:00  107.472717\n",
       "6491  2012-12-31 22:00:00   84.004875\n",
       "6492  2012-12-31 23:00:00   42.938320\n",
       "\n",
       "[6493 rows x 2 columns]"
      ]
     },
     "execution_count": 19,
     "metadata": {},
     "output_type": "execute_result"
    }
   ],
   "source": [
    "# sub['count'] = result\n",
    "\n",
    "# You cannot input the result itself. Take exponential to fit the scalse\n",
    "sub['count'] = np.exp(result2)\n",
    "sub"
   ]
  },
  {
   "cell_type": "code",
   "execution_count": 20,
   "id": "0629b79b",
   "metadata": {
    "execution": {
     "iopub.execute_input": "2021-10-26T04:17:07.361717Z",
     "iopub.status.busy": "2021-10-26T04:17:07.361144Z",
     "iopub.status.idle": "2021-10-26T04:17:07.380563Z",
     "shell.execute_reply": "2021-10-26T04:17:07.381010Z",
     "shell.execute_reply.started": "2021-10-26T04:16:01.465637Z"
    },
    "papermill": {
     "duration": 0.047264,
     "end_time": "2021-10-26T04:17:07.381207",
     "exception": false,
     "start_time": "2021-10-26T04:17:07.333943",
     "status": "completed"
    },
    "tags": []
   },
   "outputs": [],
   "source": [
    "sub.to_csv('xgb.csv', index=False)"
   ]
  },
  {
   "cell_type": "code",
   "execution_count": null,
   "id": "283ae176",
   "metadata": {
    "papermill": {
     "duration": 0.024283,
     "end_time": "2021-10-26T04:17:07.430988",
     "exception": false,
     "start_time": "2021-10-26T04:17:07.406705",
     "status": "completed"
    },
    "tags": []
   },
   "outputs": [],
   "source": []
  }
 ],
 "metadata": {
  "kernelspec": {
   "display_name": "Python 3",
   "language": "python",
   "name": "python3"
  },
  "language_info": {
   "codemirror_mode": {
    "name": "ipython",
    "version": 3
   },
   "file_extension": ".py",
   "mimetype": "text/x-python",
   "name": "python",
   "nbconvert_exporter": "python",
   "pygments_lexer": "ipython3",
   "version": "3.7.10"
  },
  "papermill": {
   "default_parameters": {},
   "duration": 18.330065,
   "end_time": "2021-10-26T04:17:08.165135",
   "environment_variables": {},
   "exception": null,
   "input_path": "__notebook__.ipynb",
   "output_path": "__notebook__.ipynb",
   "parameters": {},
   "start_time": "2021-10-26T04:16:49.835070",
   "version": "2.3.3"
  }
 },
 "nbformat": 4,
 "nbformat_minor": 5
}
