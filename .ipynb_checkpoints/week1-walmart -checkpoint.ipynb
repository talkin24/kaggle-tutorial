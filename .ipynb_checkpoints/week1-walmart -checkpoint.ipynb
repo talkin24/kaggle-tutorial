{
 "cells": [
  {
   "cell_type": "code",
   "execution_count": 1,
   "metadata": {
    "_cell_guid": "b1076dfc-b9ad-4769-8c92-a6c4dae69d19",
    "_uuid": "8f2839f25d086af736a60e9eeb907d3b93b6e0e5",
    "execution": {
     "iopub.execute_input": "2021-10-21T05:39:51.588439Z",
     "iopub.status.busy": "2021-10-21T05:39:51.587550Z",
     "iopub.status.idle": "2021-10-21T05:39:51.621509Z",
     "shell.execute_reply": "2021-10-21T05:39:51.620601Z",
     "shell.execute_reply.started": "2021-10-21T05:39:51.588292Z"
    }
   },
   "outputs": [],
   "source": [
    "# This Python 3 environment comes with many helpful analytics libraries installed\n",
    "# It is defined by the kaggle/python Docker image: https://github.com/kaggle/docker-python\n",
    "# For example, here's several helpful packages to load\n",
    "\n",
    "import numpy as np # linear algebra\n",
    "import pandas as pd # data processing, CSV file I/O (e.g. pd.read_csv)\n",
    "\n",
    "# Input data files are available in the read-only \"../input/\" directory\n",
    "# For example, running this (by clicking run or pressing Shift+Enter) will list all files under the input directory\n",
    "\n",
    "import os\n",
    "for dirname, _, filenames in os.walk('/kaggle/input'):\n",
    "    for filename in filenames:\n",
    "        print(os.path.join(dirname, filename))\n",
    "\n",
    "# You can write up to 20GB to the current directory (/kaggle/working/) that gets preserved as output when you create a version using \"Save & Run All\" \n",
    "# You can also write temporary files to /kaggle/temp/, but they won't be saved outside of the current session"
   ]
  },
  {
   "cell_type": "code",
   "execution_count": 2,
   "metadata": {
    "execution": {
     "iopub.execute_input": "2021-10-21T05:39:51.624620Z",
     "iopub.status.busy": "2021-10-21T05:39:51.623729Z",
     "iopub.status.idle": "2021-10-21T05:39:51.964686Z",
     "shell.execute_reply": "2021-10-21T05:39:51.963805Z",
     "shell.execute_reply.started": "2021-10-21T05:39:51.624581Z"
    }
   },
   "outputs": [],
   "source": [
    "#pd.options.display.max_rows = 9999\n",
    "train = pd.read_csv('/kaggle/input/walmart-recruiting-store-sales-forecasting/train.csv.zip')\n",
    "train.head(5)"
   ]
  },
  {
   "cell_type": "code",
   "execution_count": 3,
   "metadata": {
    "execution": {
     "iopub.execute_input": "2021-10-21T05:39:51.965959Z",
     "iopub.status.busy": "2021-10-21T05:39:51.965749Z",
     "iopub.status.idle": "2021-10-21T05:39:52.035386Z",
     "shell.execute_reply": "2021-10-21T05:39:52.034609Z",
     "shell.execute_reply.started": "2021-10-21T05:39:51.965935Z"
    }
   },
   "outputs": [],
   "source": [
    "test = pd.read_csv('/kaggle/input/walmart-recruiting-store-sales-forecasting/test.csv.zip')\n",
    "test.head(5)"
   ]
  },
  {
   "cell_type": "code",
   "execution_count": 4,
   "metadata": {
    "execution": {
     "iopub.execute_input": "2021-10-21T05:39:52.038102Z",
     "iopub.status.busy": "2021-10-21T05:39:52.037422Z",
     "iopub.status.idle": "2021-10-21T05:39:52.043885Z",
     "shell.execute_reply": "2021-10-21T05:39:52.043233Z",
     "shell.execute_reply.started": "2021-10-21T05:39:52.038052Z"
    }
   },
   "outputs": [],
   "source": [
    "train.dtypes"
   ]
  },
  {
   "cell_type": "markdown",
   "metadata": {},
   "source": [
    "Object type cannot be used for learning"
   ]
  },
  {
   "cell_type": "code",
   "execution_count": 5,
   "metadata": {
    "execution": {
     "iopub.execute_input": "2021-10-21T05:39:52.045816Z",
     "iopub.status.busy": "2021-10-21T05:39:52.045253Z",
     "iopub.status.idle": "2021-10-21T05:39:52.154135Z",
     "shell.execute_reply": "2021-10-21T05:39:52.153552Z",
     "shell.execute_reply.started": "2021-10-21T05:39:52.045776Z"
    }
   },
   "outputs": [],
   "source": [
    "sub = pd.read_csv('/kaggle/input/walmart-recruiting-store-sales-forecasting/sampleSubmission.csv.zip')\n",
    "sub"
   ]
  },
  {
   "cell_type": "code",
   "execution_count": 6,
   "metadata": {
    "execution": {
     "iopub.execute_input": "2021-10-21T05:39:52.156572Z",
     "iopub.status.busy": "2021-10-21T05:39:52.156051Z",
     "iopub.status.idle": "2021-10-21T05:39:52.232306Z",
     "shell.execute_reply": "2021-10-21T05:39:52.231347Z",
     "shell.execute_reply.started": "2021-10-21T05:39:52.156537Z"
    }
   },
   "outputs": [],
   "source": [
    "# object => datetime\n",
    "train['Date'] = pd.to_datetime(train['Date'])\n",
    "train.dtypes"
   ]
  },
  {
   "cell_type": "code",
   "execution_count": 7,
   "metadata": {
    "execution": {
     "iopub.execute_input": "2021-10-21T05:39:52.233886Z",
     "iopub.status.busy": "2021-10-21T05:39:52.233421Z",
     "iopub.status.idle": "2021-10-21T05:39:52.515431Z",
     "shell.execute_reply": "2021-10-21T05:39:52.514543Z",
     "shell.execute_reply.started": "2021-10-21T05:39:52.233854Z"
    }
   },
   "outputs": [],
   "source": [
    "# add features\n",
    "train['Year'] = train['Date'].dt.year\n",
    "train['Month'] = train['Date'].dt.month\n",
    "train['Day'] = train['Date'].dt.day\n",
    "train['Week'] = train['Date'].dt.week"
   ]
  },
  {
   "cell_type": "code",
   "execution_count": 8,
   "metadata": {
    "execution": {
     "iopub.execute_input": "2021-10-21T05:39:52.517086Z",
     "iopub.status.busy": "2021-10-21T05:39:52.516792Z",
     "iopub.status.idle": "2021-10-21T05:39:52.618975Z",
     "shell.execute_reply": "2021-10-21T05:39:52.618130Z",
     "shell.execute_reply.started": "2021-10-21T05:39:52.517042Z"
    }
   },
   "outputs": [],
   "source": [
    "# matching test data to train data\n",
    "test['Date'] = pd.to_datetime(test['Date'])\n",
    "\n",
    "test['Year'] = test['Date'].dt.year\n",
    "test['Month'] = test['Date'].dt.month\n",
    "test['Day'] = test['Date'].dt.day\n",
    "test['Week'] = test['Date'].dt.week"
   ]
  },
  {
   "cell_type": "code",
   "execution_count": 9,
   "metadata": {
    "execution": {
     "iopub.execute_input": "2021-10-21T05:39:52.620393Z",
     "iopub.status.busy": "2021-10-21T05:39:52.620186Z",
     "iopub.status.idle": "2021-10-21T05:39:52.636246Z",
     "shell.execute_reply": "2021-10-21T05:39:52.635621Z",
     "shell.execute_reply.started": "2021-10-21T05:39:52.620368Z"
    }
   },
   "outputs": [],
   "source": [
    "test"
   ]
  },
  {
   "cell_type": "code",
   "execution_count": 10,
   "metadata": {
    "execution": {
     "iopub.execute_input": "2021-10-21T05:39:52.638939Z",
     "iopub.status.busy": "2021-10-21T05:39:52.638526Z",
     "iopub.status.idle": "2021-10-21T05:39:53.508848Z",
     "shell.execute_reply": "2021-10-21T05:39:53.507919Z",
     "shell.execute_reply.started": "2021-10-21T05:39:52.638901Z"
    }
   },
   "outputs": [],
   "source": [
    "import matplotlib.pyplot as plt\n",
    "import seaborn as sns"
   ]
  },
  {
   "cell_type": "code",
   "execution_count": 11,
   "metadata": {
    "execution": {
     "iopub.execute_input": "2021-10-21T05:39:53.510177Z",
     "iopub.status.busy": "2021-10-21T05:39:53.509953Z",
     "iopub.status.idle": "2021-10-21T05:39:54.072291Z",
     "shell.execute_reply": "2021-10-21T05:39:54.071319Z",
     "shell.execute_reply.started": "2021-10-21T05:39:53.510150Z"
    }
   },
   "outputs": [],
   "source": [
    "# feature visualization\n",
    "plt.figure(figsize = (16, 10))\n",
    "sns.boxplot(train['Month'], train['Weekly_Sales'], showfliers = False)\n",
    "# showfliers: Outlier delete option"
   ]
  },
  {
   "cell_type": "code",
   "execution_count": 12,
   "metadata": {
    "execution": {
     "iopub.execute_input": "2021-10-21T05:39:54.074346Z",
     "iopub.status.busy": "2021-10-21T05:39:54.074045Z",
     "iopub.status.idle": "2021-10-21T05:39:56.145490Z",
     "shell.execute_reply": "2021-10-21T05:39:56.144912Z",
     "shell.execute_reply.started": "2021-10-21T05:39:54.074307Z"
    }
   },
   "outputs": [],
   "source": [
    "sns.distplot(train['Weekly_Sales'])\n",
    "# distribution is skewed. If it chancged, learning could be better(ideal dist. is normal dist.) "
   ]
  },
  {
   "cell_type": "code",
   "execution_count": 13,
   "metadata": {
    "execution": {
     "iopub.execute_input": "2021-10-21T05:39:56.146841Z",
     "iopub.status.busy": "2021-10-21T05:39:56.146334Z",
     "iopub.status.idle": "2021-10-21T05:39:56.186056Z",
     "shell.execute_reply": "2021-10-21T05:39:56.185161Z",
     "shell.execute_reply.started": "2021-10-21T05:39:56.146801Z"
    }
   },
   "outputs": [],
   "source": [
    "# Y value should be deleted for learning\n",
    "train2 = train.drop(columns = ['Date', 'Weekly_Sales'])\n",
    "train2"
   ]
  },
  {
   "cell_type": "code",
   "execution_count": 14,
   "metadata": {
    "execution": {
     "iopub.execute_input": "2021-10-21T05:39:56.187541Z",
     "iopub.status.busy": "2021-10-21T05:39:56.187199Z",
     "iopub.status.idle": "2021-10-21T05:39:56.207393Z",
     "shell.execute_reply": "2021-10-21T05:39:56.206677Z",
     "shell.execute_reply.started": "2021-10-21T05:39:56.187510Z"
    }
   },
   "outputs": [],
   "source": [
    "test2 = test.drop(columns='Date')\n",
    "test2"
   ]
  },
  {
   "cell_type": "code",
   "execution_count": 15,
   "metadata": {
    "execution": {
     "iopub.execute_input": "2021-10-21T05:39:56.208834Z",
     "iopub.status.busy": "2021-10-21T05:39:56.208368Z",
     "iopub.status.idle": "2021-10-21T05:40:51.992791Z",
     "shell.execute_reply": "2021-10-21T05:40:51.991867Z",
     "shell.execute_reply.started": "2021-10-21T05:39:56.208799Z"
    }
   },
   "outputs": [],
   "source": [
    "from sklearn.ensemble import RandomForestRegressor\n",
    "\n",
    "# RF usually fits for baseline model because it have moderate performance without tuning hyper parameters.\n",
    "rf = RandomForestRegressor(n_jobs = -1)\n",
    "\n",
    "rf.fit(train2, train['Weekly_Sales'])"
   ]
  },
  {
   "cell_type": "code",
   "execution_count": 16,
   "metadata": {
    "execution": {
     "iopub.execute_input": "2021-10-21T05:40:51.995022Z",
     "iopub.status.busy": "2021-10-21T05:40:51.994475Z",
     "iopub.status.idle": "2021-10-21T05:40:52.947920Z",
     "shell.execute_reply": "2021-10-21T05:40:52.947346Z",
     "shell.execute_reply.started": "2021-10-21T05:40:51.994980Z"
    }
   },
   "outputs": [],
   "source": [
    "result = rf.predict(test2)\n",
    "\n",
    "result"
   ]
  },
  {
   "cell_type": "code",
   "execution_count": 17,
   "metadata": {
    "execution": {
     "iopub.execute_input": "2021-10-21T05:40:52.949145Z",
     "iopub.status.busy": "2021-10-21T05:40:52.948937Z",
     "iopub.status.idle": "2021-10-21T05:40:52.960125Z",
     "shell.execute_reply": "2021-10-21T05:40:52.959297Z",
     "shell.execute_reply.started": "2021-10-21T05:40:52.949120Z"
    }
   },
   "outputs": [],
   "source": [
    "# push to the submission file.\n",
    "sub['Weekly_Sales'] = result\n",
    "sub"
   ]
  },
  {
   "cell_type": "code",
   "execution_count": 18,
   "metadata": {
    "execution": {
     "iopub.execute_input": "2021-10-21T05:40:52.961618Z",
     "iopub.status.busy": "2021-10-21T05:40:52.961303Z",
     "iopub.status.idle": "2021-10-21T05:40:53.249938Z",
     "shell.execute_reply": "2021-10-21T05:40:53.249127Z",
     "shell.execute_reply.started": "2021-10-21T05:40:52.961586Z"
    }
   },
   "outputs": [],
   "source": [
    "# 'index = 0 or false' for not creating new index\n",
    "sub.to_csv('sub1.csv', index = 0)"
   ]
  },
  {
   "cell_type": "code",
   "execution_count": null,
   "metadata": {},
   "outputs": [],
   "source": []
  }
 ],
 "metadata": {
  "kernelspec": {
   "display_name": "Python 3 (ipykernel)",
   "language": "python",
   "name": "python3"
  },
  "language_info": {
   "codemirror_mode": {
    "name": "ipython",
    "version": 3
   },
   "file_extension": ".py",
   "mimetype": "text/x-python",
   "name": "python",
   "nbconvert_exporter": "python",
   "pygments_lexer": "ipython3",
   "version": "3.9.7"
  }
 },
 "nbformat": 4,
 "nbformat_minor": 4
}
